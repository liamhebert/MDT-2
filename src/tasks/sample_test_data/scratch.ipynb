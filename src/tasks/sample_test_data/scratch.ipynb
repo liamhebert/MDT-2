{
 "cells": [
  {
   "cell_type": "code",
   "execution_count": null,
   "metadata": {},
   "outputs": [],
   "source": [
    "import json"
   ]
  },
  {
   "cell_type": "code",
   "execution_count": null,
   "metadata": {},
   "outputs": [],
   "source": [
    "path = \"test10-old-data.json\"\n",
    "new_path = \"test10-data.json\"\n",
    "\n",
    "\n",
    "def recursive_update(data: dict) -> dict:\n",
    "    data.update(data[\"data\"])\n",
    "    del data[\"data\"]\n",
    "    for child in data[\"tree\"]:\n",
    "        recursive_update(child)\n",
    "    return data\n",
    "\n",
    "\n",
    "with open(new_path, \"w\") as write:\n",
    "    with open(path, \"r\") as read:\n",
    "        for line in read:\n",
    "            data: dict = json.loads(line)\n",
    "            recursive_update(data)\n",
    "            write.write(json.dumps(data) + \"\\n\")"
   ]
  }
 ],
 "metadata": {
  "kernelspec": {
   "display_name": "base",
   "language": "python",
   "name": "python3"
  },
  "language_info": {
   "codemirror_mode": {
    "name": "ipython",
    "version": 3
   },
   "file_extension": ".py",
   "mimetype": "text/x-python",
   "name": "python",
   "nbconvert_exporter": "python",
   "pygments_lexer": "ipython3",
   "version": "3.11.4"
  }
 },
 "nbformat": 4,
 "nbformat_minor": 2
}
