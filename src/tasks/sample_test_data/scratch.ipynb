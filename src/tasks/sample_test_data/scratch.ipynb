{
 "cells": [
  {
   "cell_type": "code",
   "execution_count": null,
   "metadata": {},
   "outputs": [],
   "source": [
    "import json"
   ]
  },
  {
   "cell_type": "code",
   "execution_count": null,
   "metadata": {},
   "outputs": [],
   "source": [
    "def find_images(data):\n",
    "    if isinstance(data, dict):\n",
    "        for key, value in data.items():\n",
    "            if key == \"images\" and value:\n",
    "                print(value)\n",
    "            find_images(value)\n",
    "    elif isinstance(data, list):\n",
    "        for item in data:\n",
    "            find_images(item)\n",
    "\n",
    "\n",
    "def find_labels(data) -> int:\n",
    "    total = 0\n",
    "    if isinstance(data, dict):\n",
    "        for key, value in data.items():\n",
    "            if key == \"label\" and value and value != \"NA\":\n",
    "                print(value)\n",
    "                total += 1\n",
    "            total += find_labels(value)\n",
    "    elif isinstance(data, list):\n",
    "        for item in data:\n",
    "            total += find_labels(item)\n",
    "\n",
    "    return total\n",
    "\n",
    "\n",
    "running_total = 0\n",
    "for i, line in enumerate(open(\"test10.json\")):\n",
    "    print(\"graph %d\" % i)\n",
    "    data = json.loads(line)\n",
    "    total = find_labels(data)\n",
    "    running_total += total\n",
    "    print(\"total labels: %d\" % total)\n",
    "    print(\"graph over\")\n",
    "\n",
    "print(\"FINAL TOTAL: %d\" % running_total)"
   ]
  },
  {
   "cell_type": "code",
   "execution_count": null,
   "metadata": {},
   "outputs": [],
   "source": [
    "\n",
    "\n"
   ]
  },
  {
   "cell_type": "code",
   "execution_count": null,
   "metadata": {},
   "outputs": [],
   "source": [
    "data[\"images\"]"
   ]
  }
 ],
 "metadata": {
  "kernelspec": {
   "display_name": "Python 3",
   "language": "python",
   "name": "python3"
  },
  "language_info": {
   "codemirror_mode": {
    "name": "ipython",
    "version": 3
   },
   "file_extension": ".py",
   "mimetype": "text/x-python",
   "name": "python",
   "nbconvert_exporter": "python",
   "pygments_lexer": "ipython3",
   "version": "3.10.12"
  }
 },
 "nbformat": 4,
 "nbformat_minor": 2
}
