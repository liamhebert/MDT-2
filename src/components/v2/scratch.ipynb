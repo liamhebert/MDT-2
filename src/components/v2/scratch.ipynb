{
 "cells": [
  {
   "cell_type": "code",
   "execution_count": null,
   "metadata": {},
   "outputs": [],
   "source": [
    "from functools import partial\n",
    "from typing import Tuple\n",
    "\n",
    "import torch\n",
    "import torch.nn as nn\n",
    "import torch.nn.functional as F"
   ]
  },
  {
   "cell_type": "code",
   "execution_count": null,
   "metadata": {},
   "outputs": [],
   "source": [
    "def compute_mixed_cis(\n",
    "    freqs: torch.Tensor, t_x: torch.Tensor, t_y: torch.Tensor, num_heads: int\n",
    "):\n",
    "    N = t_x.shape[0]\n",
    "    depth = freqs.shape[1]\n",
    "    # No float 16 for this range\n",
    "    with torch.cuda.amp.autocast(enabled=False):\n",
    "        freqs_x = (\n",
    "            (t_x.unsqueeze(-1) @ freqs[0].unsqueeze(-2))\n",
    "            .view(depth, N, num_heads, -1)\n",
    "            .permute(0, 2, 1, 3)  # (depth, num_heads, N, dim)\n",
    "        )\n",
    "        freqs_y = (\n",
    "            (t_y.unsqueeze(-1) @ freqs[1].unsqueeze(-2))\n",
    "            .view(depth, N, num_heads, -1)\n",
    "            .permute(0, 2, 1, 3)  # (depth, num_heads, N, dim)\n",
    "        )\n",
    "        freqs_cis = torch.polar(torch.ones_like(freqs_x), freqs_x + freqs_y)\n",
    "\n",
    "    return freqs_cis\n",
    "\n",
    "\n",
    "def reshape_for_broadcast_old(freqs_cis: torch.Tensor, x: torch.Tensor):\n",
    "    ndim = x.ndim\n",
    "    assert 0 <= 1 < ndim\n",
    "    if freqs_cis.shape == (x.shape[-2], x.shape[-1]):\n",
    "        shape = [d if i >= ndim - 2 else 1 for i, d in enumerate(x.shape)]\n",
    "    elif freqs_cis.shape == (x.shape[-3], x.shape[-2], x.shape[-1]):\n",
    "        shape = [d if i >= ndim - 3 else 1 for i, d in enumerate(x.shape)]\n",
    "\n",
    "    return freqs_cis.view(*shape)\n",
    "\n",
    "\n",
    "def apply_rotary_emb_old(\n",
    "    xq: torch.Tensor, xk: torch.Tensor, freqs_cis: torch.Tensor\n",
    "):\n",
    "    xq_ = torch.view_as_complex(xq.float().reshape(*xq.shape[:-1], -1, 2))\n",
    "    xk_ = torch.view_as_complex(xk.float().reshape(*xk.shape[:-1], -1, 2))\n",
    "    freqs_cis = reshape_for_broadcast_old(freqs_cis, xq_)\n",
    "    xq_out = torch.view_as_real(xq_ * freqs_cis).flatten(3)\n",
    "    xk_out = torch.view_as_real(xk_ * freqs_cis).flatten(3)\n",
    "    return xq_out.type_as(xq).to(xq.device), xk_out.type_as(xk).to(xk.device)\n",
    "\n",
    "\n",
    "def reshape_for_broadcast_new(\n",
    "    freqs_cis: torch.Tensor, x: torch.Tensor, seq_dim: int\n",
    "):\n",
    "    \"\"\"\n",
    "    Reshape frequency tensor for broadcasting it with another tensor.\n",
    "\n",
    "    This function reshapes the frequency tensor to have the same shape as the\n",
    "    target tensor 'x' for the purpose of broadcasting the frequency tensor\n",
    "    during element-wise operations.\n",
    "\n",
    "    Args:\n",
    "        freqs_cis (torch.Tensor): Frequency tensor to be reshaped.\n",
    "        x (torch.Tensor): Target tensor for broadcasting compatibility.\n",
    "        seq_dim (int): Sequence dimension index.\n",
    "\n",
    "    Returns:\n",
    "        torch.Tensor: Reshaped frequency tensor.\n",
    "    \"\"\"\n",
    "    ndim = x.ndim\n",
    "    assert 0 <= seq_dim < ndim\n",
    "    assert freqs_cis.shape == (\n",
    "        x.shape[seq_dim],\n",
    "        x.shape[-3],\n",
    "        2,\n",
    "        2,\n",
    "    ), f\"freqs_cis vs x: {(freqs_cis.shape, x.shape)}\"\n",
    "    shape = [\n",
    "        d if i == seq_dim or i == ndim - 3 else 1\n",
    "        for i, d in enumerate(x.shape[:-2])\n",
    "    ] + [2, 2]\n",
    "    return freqs_cis.view(*shape)\n",
    "\n",
    "\n",
    "def apply_rotary_emb_new(\n",
    "    xq: torch.Tensor,\n",
    "    xk: torch.Tensor,\n",
    "    seq_dim: int,\n",
    "    freqs_cis: torch.Tensor,\n",
    ") -> Tuple[torch.Tensor, torch.Tensor]:\n",
    "    xq_ = xq.reshape(*xq.shape[:-1], -1, 1, 2)  # B S H D -> B S H D/2 1 2\n",
    "    xk_ = xk.reshape(*xk.shape[:-1], -1, 1, 2)  # B S H D -> B S H D/2 1 2\n",
    "    freqs_cis = reshape_for_broadcast_new(\n",
    "        freqs_cis, xq_, seq_dim\n",
    "    ).float()  # S D/2 2 2 -> 1 S 1 D/2 2 2\n",
    "    xq_out = (xq_ * freqs_cis).sum(5).flatten(3)\n",
    "    xk_out = (xk_ * freqs_cis).sum(5).flatten(3)\n",
    "    return xq_out.type_as(xq), xk_out.type_as(xk)\n",
    "\n",
    "\n",
    "def init_t_xy(end_x: int, end_y: int):\n",
    "    t = torch.arange(end_x * end_y, dtype=torch.float32)\n",
    "    t_x = (t % end_x).float()\n",
    "    t_y = torch.div(t, end_x, rounding_mode=\"floor\").float()\n",
    "    return t_x, t_y"
   ]
  },
  {
   "cell_type": "code",
   "execution_count": null,
   "metadata": {},
   "outputs": [],
   "source": [
    "t_x, t_y = init_t_xy(3, 3)"
   ]
  },
  {
   "cell_type": "code",
   "execution_count": null,
   "metadata": {},
   "outputs": [],
   "source": [
    "theta = 100\n",
    "dim = 64\n",
    "mag = 1 / (theta ** (torch.arange(0, dim, 4)[: (dim // 4)].float() / dim))\n",
    "angles = torch.zeros(1)\n",
    "fx = torch.cat(\n",
    "    [mag * torch.cos(angles), mag * torch.cos(torch.pi / 2 + angles)], dim=-1\n",
    ")\n",
    "(t_x.unsqueeze(-1) @ fx.unsqueeze(-2)).view(3, 3, -1).permute(1, 0, 2)"
   ]
  },
  {
   "cell_type": "code",
   "execution_count": null,
   "metadata": {},
   "outputs": [],
   "source": [
    "mag"
   ]
  },
  {
   "cell_type": "code",
   "execution_count": null,
   "metadata": {},
   "outputs": [],
   "source": [
    "fx[: len(fx) // 2]"
   ]
  },
  {
   "cell_type": "code",
   "execution_count": null,
   "metadata": {},
   "outputs": [],
   "source": [
    "fx[len(fx) // 2 :]"
   ]
  },
  {
   "cell_type": "code",
   "execution_count": null,
   "metadata": {},
   "outputs": [],
   "source": [
    "mag"
   ]
  },
  {
   "cell_type": "code",
   "execution_count": null,
   "metadata": {},
   "outputs": [],
   "source": [
    "fx.shape"
   ]
  },
  {
   "cell_type": "code",
   "execution_count": null,
   "metadata": {},
   "outputs": [],
   "source": [
    "t_x"
   ]
  },
  {
   "cell_type": "code",
   "execution_count": null,
   "metadata": {},
   "outputs": [],
   "source": [
    "fx"
   ]
  },
  {
   "cell_type": "code",
   "execution_count": null,
   "metadata": {},
   "outputs": [],
   "source": [
    "def init_random_2d_freqs_new(dim: int, end: int, theta: float = 100.0):\n",
    "    assert dim % 4 == 0, \"dim must be divisible by 4\"\n",
    "    # the // 2 is because we will be decomposing each pair of numbers as real\n",
    "    # and imaginary parts, and use the same magnitude for both\n",
    "    # We use // 4 and 100 theta because we are reducing the amount of positions\n",
    "    # by sqrt.\n",
    "    mag = 1 / (theta ** (torch.arange(0, dim, 4)[: (dim // 4)].float() / dim))\n",
    "    indices = torch.arange(end, device=mag.device)\n",
    "    freqs = torch.outer(indices, mag).float()\n",
    "\n",
    "    # angles = torch.rand(1) * 2 * torch.pi if rotate else torch.zeros(1)\n",
    "\n",
    "    cos, sin = torch.cos(freqs), torch.sin(freqs)\n",
    "    freqs = torch.stack((cos, -sin, sin, cos), dim=-1).view(*freqs.shape, 2, 2)\n",
    "\n",
    "    return freqs\n",
    "\n",
    "\n",
    "def init_random_2d_freqs_old(\n",
    "    dim: int, num_heads: int, theta: float = 10.0, rotate: bool = True\n",
    "):\n",
    "    freqs_x = []\n",
    "    freqs_y = []\n",
    "    mag = 1 / (theta ** (torch.arange(0, dim, 4)[: (dim // 4)].float() / dim))\n",
    "    for i in range(num_heads):\n",
    "        angles = torch.rand(1) * 2 * torch.pi if rotate else torch.zeros(1)\n",
    "        fx = torch.cat(\n",
    "            [mag * torch.cos(angles), mag * torch.cos(torch.pi / 2 + angles)],\n",
    "            dim=-1,\n",
    "        )\n",
    "        fy = torch.cat(\n",
    "            [mag * torch.sin(angles), mag * torch.sin(torch.pi / 2 + angles)],\n",
    "            dim=-1,\n",
    "        )\n",
    "        freqs_x.append(fx)\n",
    "        freqs_y.append(fy)\n",
    "    freqs_x = torch.stack(freqs_x, dim=0)\n",
    "    freqs_y = torch.stack(freqs_y, dim=0)\n",
    "    freqs = torch.stack([freqs_x, freqs_y], dim=0)\n",
    "    return freqs"
   ]
  },
  {
   "cell_type": "code",
   "execution_count": null,
   "metadata": {},
   "outputs": [],
   "source": [
    "new_freq = init_random_2d_freqs_new(10, 10, 10000)"
   ]
  },
  {
   "cell_type": "code",
   "execution_count": null,
   "metadata": {},
   "outputs": [],
   "source": [
    "new_freq.shape"
   ]
  },
  {
   "cell_type": "code",
   "execution_count": null,
   "metadata": {},
   "outputs": [],
   "source": [
    "t_x"
   ]
  },
  {
   "cell_type": "code",
   "execution_count": null,
   "metadata": {},
   "outputs": [],
   "source": [
    "t_x.shape"
   ]
  },
  {
   "cell_type": "code",
   "execution_count": null,
   "metadata": {},
   "outputs": [],
   "source": [
    "torch.stack(\n",
    "    (new_freq[t_x.long(), :, 1, :], new_freq[t_y.long(), :, 0, :]), dim=2\n",
    ").shape"
   ]
  },
  {
   "cell_type": "code",
   "execution_count": null,
   "metadata": {},
   "outputs": [],
   "source": [
    "freqs = init_random_2d_freqs_old(16, 3)"
   ]
  },
  {
   "cell_type": "code",
   "execution_count": null,
   "metadata": {},
   "outputs": [],
   "source": [
    "freqs.shape"
   ]
  },
  {
   "cell_type": "code",
   "execution_count": null,
   "metadata": {},
   "outputs": [],
   "source": [
    "freqs = init_random_2d_freqs_old(16, 3)\n",
    "freqs.shape"
   ]
  },
  {
   "cell_type": "code",
   "execution_count": null,
   "metadata": {},
   "outputs": [],
   "source": [
    "freqs.shape"
   ]
  },
  {
   "cell_type": "code",
   "execution_count": null,
   "metadata": {},
   "outputs": [],
   "source": [
    "freqs = init_random_2d_freqs_new(16, 10)\n",
    "freqs.shape"
   ]
  },
  {
   "cell_type": "code",
   "execution_count": null,
   "metadata": {},
   "outputs": [],
   "source": [
    "def precompute_freqs_cis(dim: int, end: int, theta: float = 10000.0):\n",
    "    \"\"\"\n",
    "    Precompute the frequency tensor for complex exponentials (cis) with given\n",
    "    dimensions.\n",
    "\n",
    "    This function calculates a frequency tensor with complex exponentials using\n",
    "    the given dimension 'dim' and the end index 'end'. The 'theta' parameter\n",
    "    scales the frequencies. The returned tensor contains complex values in\n",
    "    complex64 data type.\n",
    "\n",
    "    Args:\n",
    "        dim (int): Dimension of the frequency tensor.\n",
    "        end (int): End index for precomputing frequencies.\n",
    "        theta (float, optional): Scaling factor for frequency computation.\n",
    "            Defaults to 10000.0.\n",
    "\n",
    "    Returns:\n",
    "        torch.Tensor: Precomputed frequency tensor with complex exponentials.\n",
    "    \"\"\"\n",
    "    freqs = 1.0 / (\n",
    "        theta ** (torch.arange(0, dim, 2)[: (dim // 2)].float() / dim)\n",
    "    )\n",
    "    t = torch.arange(end, device=freqs.device)\n",
    "    freqs = torch.outer(t, freqs).float()\n",
    "\n",
    "    cos, sin = freqs.cos(), freqs.sin()\n",
    "\n",
    "    return torch.stack((cos, -sin, sin, cos), dim=-1).view(*freqs.size(), 2, 2)"
   ]
  },
  {
   "cell_type": "code",
   "execution_count": null,
   "metadata": {},
   "outputs": [],
   "source": [
    "freqs = []\n",
    "for i, _ in enumerate([1]):\n",
    "    freqs.append(init_random_2d_freqs_old(dim=16, num_heads=3, theta=10000))\n",
    "freqs = torch.stack(freqs, dim=1).view(2, len([1]), -1)\n",
    "\n",
    "# freqs = init_random_2d_freqs(16, 3, 10000, False)\n",
    "t_x, t_y = init_t_xy(5, 2)\n",
    "freqs_cis = compute_mixed_cis(freqs, t_x, t_y, num_heads=3)\n",
    "\n",
    "freqs_cis = freqs_cis.squeeze(0)  # assuing one head"
   ]
  },
  {
   "cell_type": "code",
   "execution_count": null,
   "metadata": {},
   "outputs": [],
   "source": [
    "x = torch."
   ]
  },
  {
   "cell_type": "code",
   "execution_count": null,
   "metadata": {},
   "outputs": [],
   "source": [
    "freqs.shape"
   ]
  },
  {
   "cell_type": "code",
   "execution_count": null,
   "metadata": {},
   "outputs": [],
   "source": [
    "freqs_cis"
   ]
  },
  {
   "cell_type": "code",
   "execution_count": null,
   "metadata": {},
   "outputs": [],
   "source": [
    "freqs"
   ]
  },
  {
   "cell_type": "code",
   "execution_count": null,
   "metadata": {},
   "outputs": [],
   "source": []
  },
  {
   "cell_type": "code",
   "execution_count": null,
   "metadata": {},
   "outputs": [],
   "source": [
    "freqs.shape"
   ]
  },
  {
   "cell_type": "code",
   "execution_count": null,
   "metadata": {},
   "outputs": [],
   "source": [
    "freqs_cis.shape"
   ]
  },
  {
   "cell_type": "code",
   "execution_count": null,
   "metadata": {},
   "outputs": [],
   "source": [
    "freqs_cis"
   ]
  },
  {
   "cell_type": "code",
   "execution_count": null,
   "metadata": {},
   "outputs": [],
   "source": [
    "freqs_2 = precompute_freqs_cis(16, 10, 10000)"
   ]
  },
  {
   "cell_type": "code",
   "execution_count": null,
   "metadata": {},
   "outputs": [],
   "source": [
    "freqs_2.shape"
   ]
  },
  {
   "cell_type": "code",
   "execution_count": null,
   "metadata": {},
   "outputs": [],
   "source": [
    "freqs_2"
   ]
  },
  {
   "cell_type": "code",
   "execution_count": null,
   "metadata": {},
   "outputs": [],
   "source": [
    "freqs"
   ]
  },
  {
   "cell_type": "code",
   "execution_count": null,
   "metadata": {},
   "outputs": [],
   "source": [
    "theta = 10000.0\n",
    "dim = 4\n",
    "end = 3\n",
    "\n",
    "freqs = 1.0 / (theta ** (torch.arange(0, dim, 2)[: (dim // 2)].float() / dim))\n",
    "t = torch.arange(end, device=freqs.device)\n",
    "freqs = torch.outer(t, freqs).float()\n",
    "\n",
    "cos, sin = freqs.cos(), freqs.sin()\n",
    "\n",
    "freq_new = torch.stack((cos, -sin, sin, cos), dim=-1).view(*freqs.size(), 2, 2)"
   ]
  },
  {
   "cell_type": "code",
   "execution_count": null,
   "metadata": {},
   "outputs": [],
   "source": [
    "freqs = 1.0 / (theta ** (torch.arange(0, dim, 2)[: (dim // 2)].float() / dim))\n",
    "t = torch.arange(end, device=freqs.device)\n",
    "freqs = torch.outer(t, freqs).float()\n",
    "\n",
    "freq_ = torch.polar(torch.ones_like(freqs), freqs)"
   ]
  },
  {
   "cell_type": "code",
   "execution_count": null,
   "metadata": {},
   "outputs": [],
   "source": [
    "x = torch.randn(1, 3, dim)"
   ]
  },
  {
   "cell_type": "code",
   "execution_count": null,
   "metadata": {},
   "outputs": [],
   "source": [
    "x"
   ]
  },
  {
   "cell_type": "code",
   "execution_count": null,
   "metadata": {},
   "outputs": [],
   "source": [
    "xq_ = torch.view_as_complex(x.float().reshape(*x.shape[:-1], -1, 2))"
   ]
  },
  {
   "cell_type": "code",
   "execution_count": null,
   "metadata": {},
   "outputs": [],
   "source": [
    "xq_"
   ]
  },
  {
   "cell_type": "code",
   "execution_count": null,
   "metadata": {},
   "outputs": [],
   "source": [
    "def reshape_for_broadcast(freqs_cis: torch.Tensor, x: torch.Tensor):\n",
    "    ndim = x.ndim\n",
    "    assert 0 <= 1 < ndim\n",
    "    if freqs_cis.shape == (x.shape[-2], x.shape[-1]):\n",
    "        shape = [d if i >= ndim - 2 else 1 for i, d in enumerate(x.shape)]\n",
    "    elif freqs_cis.shape == (x.shape[-3], x.shape[-2], x.shape[-1]):\n",
    "        shape = [d if i >= ndim - 3 else 1 for i, d in enumerate(x.shape)]\n",
    "    return freqs_cis.view(*shape)"
   ]
  },
  {
   "cell_type": "code",
   "execution_count": null,
   "metadata": {},
   "outputs": [],
   "source": [
    "freq_"
   ]
  },
  {
   "cell_type": "code",
   "execution_count": null,
   "metadata": {},
   "outputs": [],
   "source": [
    "freq_ready = reshape_for_broadcast(freq_, xq_)"
   ]
  },
  {
   "cell_type": "code",
   "execution_count": null,
   "metadata": {},
   "outputs": [],
   "source": [
    "freq_ready"
   ]
  },
  {
   "cell_type": "code",
   "execution_count": null,
   "metadata": {},
   "outputs": [],
   "source": [
    "freqs_cis"
   ]
  },
  {
   "cell_type": "code",
   "execution_count": null,
   "metadata": {},
   "outputs": [],
   "source": [
    "torch.view_as_real(freq_ready * xq_).flatten(3)"
   ]
  },
  {
   "cell_type": "code",
   "execution_count": null,
   "metadata": {},
   "outputs": [],
   "source": [
    "x_temp = x.unsqueeze(2)\n",
    "x_temp.shape"
   ]
  },
  {
   "cell_type": "code",
   "execution_count": null,
   "metadata": {},
   "outputs": [],
   "source": [
    "def reshape_for_broadcast(\n",
    "    freqs_cis: torch.Tensor, x: torch.Tensor, seq_dim: int\n",
    "):\n",
    "    ndim = x.ndim\n",
    "    assert 0 <= seq_dim < ndim\n",
    "    assert freqs_cis.shape == (\n",
    "        x.shape[seq_dim],\n",
    "        x.shape[-3],\n",
    "        2,\n",
    "        2,\n",
    "    ), f\"freqs_cis vs x: {(freqs_cis.shape, x.shape)}\"\n",
    "    shape = [\n",
    "        d if i == seq_dim or i == ndim - 3 else 1\n",
    "        for i, d in enumerate(x.shape[:-2])\n",
    "    ] + [2, 2]\n",
    "    return freqs_cis.view(*shape)\n",
    "\n",
    "\n",
    "xq_ = x_temp.reshape(*x_temp.shape[:-1], -1, 1, 2)  # B S H D -> B S H D/2 1 2\n",
    "freqs_cis = reshape_for_broadcast(\n",
    "    freq_new, xq_, 1\n",
    ").float()  # S D/2 2 2 -> 1 S 1 D/2 2 2\n",
    "xq_out = (xq_ * freqs_cis).sum(5).flatten(3)"
   ]
  }
 ],
 "metadata": {
  "kernelspec": {
   "display_name": "base",
   "language": "python",
   "name": "python3"
  },
  "language_info": {
   "codemirror_mode": {
    "name": "ipython",
    "version": 3
   },
   "file_extension": ".py",
   "mimetype": "text/x-python",
   "name": "python",
   "nbconvert_exporter": "python",
   "pygments_lexer": "ipython3",
   "version": "3.11.4"
  }
 },
 "nbformat": 4,
 "nbformat_minor": 2
}
