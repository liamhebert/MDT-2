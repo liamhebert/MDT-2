{
 "cells": [
  {
   "cell_type": "markdown",
   "metadata": {
    "id": "HAr54Lvyp7c3"
   },
   "source": [
    "## docTR by mindee"
   ]
  },
  {
   "cell_type": "markdown",
   "metadata": {
    "id": "aE-7NL-1qKnf"
   },
   "source": [
    "[Github](https://github.com/mindee/doctr) +\n",
    "[Documentation](https://mindee.github.io/doctr/modules/io.html#doctr.io.DocumentFile.from_pdf)"
   ]
  },
  {
   "cell_type": "code",
   "execution_count": null,
   "metadata": {
    "colab": {
     "base_uri": "https://localhost:8080/",
     "height": 1000
    },
    "id": "QpcnEl2op5_Z",
    "outputId": "276a6201-f3fc-463f-b6b5-dc1e8cb4ba4a"
   },
   "outputs": [],
   "source": [
    "!pip install python-doctr[tf]"
   ]
  },
  {
   "cell_type": "code",
   "execution_count": null,
   "metadata": {
    "id": "CZAxYc2Kn_AW"
   },
   "outputs": [],
   "source": [
    "from doctr.io import DocumentFile\n",
    "from doctr.models import ocr_predictor"
   ]
  },
  {
   "cell_type": "code",
   "execution_count": null,
   "metadata": {
    "id": "Ka744e7PdrD6"
   },
   "outputs": [],
   "source": [
    "model = ocr_predictor(pretrained=True)\n",
    "# PDF\n",
    "doc1 = [\n",
    "    DocumentFile.from_pdf(\"BP66.pdf\")[1]\n",
    "]  # taking only the second page that contains OS and OD data\n",
    "# Analyze\n",
    "result = model(doc1)"
   ]
  },
  {
   "cell_type": "markdown",
   "metadata": {
    "id": "QaIePl-_1vaP"
   },
   "source": [
    "Checking patient BP66"
   ]
  },
  {
   "cell_type": "code",
   "execution_count": null,
   "metadata": {
    "colab": {
     "base_uri": "https://localhost:8080/"
    },
    "id": "QJc8NRFDpPhy",
    "outputId": "4d938347-2b3a-45f7-afdf-9ea3ccbd42e8"
   },
   "outputs": [],
   "source": [
    "# JSON export\n",
    "json_export = result.export()[\"pages\"][0]\n",
    "print(json_export)"
   ]
  },
  {
   "cell_type": "code",
   "execution_count": null,
   "metadata": {
    "id": "hyQk8Z8e3kx2"
   },
   "outputs": [],
   "source": [
    "def find_offset_value(json_data, target_word, offset, eye=\"OD\"):\n",
    "    \"\"\"\n",
    "    Retrieve a word from JSON that is n-th position after the target word in the same line\n",
    "    \"\"\"\n",
    "    occurrence_count = 0\n",
    "    for block in json_data[\"blocks\"]:\n",
    "        for line in block.get(\"lines\", []):\n",
    "            words = line[\"words\"]\n",
    "            for i, word in enumerate(words):\n",
    "                if word[\"value\"] == target_word:\n",
    "                    occurrence_count += 1\n",
    "                    # For 'OD', find the first occurrence\n",
    "                    if eye == \"OD\" and occurrence_count == 1:\n",
    "                        if i + offset < len(words):\n",
    "                            return words[i + offset][\"value\"]\n",
    "                    # For 'OS', find the second occurrence\n",
    "                    elif eye == \"OS\" and occurrence_count == 2:\n",
    "                        if i + offset < len(words):\n",
    "                            return words[i + offset][\"value\"]\n",
    "        return None"
   ]
  },
  {
   "cell_type": "markdown",
   "metadata": {
    "id": "IvAJE4as24u5"
   },
   "source": [
    "Checking for OD:\n",
    "\n",
    "AL: 24.21 mm (SD = 0.02 mm, SNR = 220.5)\n",
    "\n",
    "Checking for OS:\n",
    "\n",
    "AL: 24.66 mm (SD = 0.05 mm, SNR = 148.6)"
   ]
  },
  {
   "cell_type": "code",
   "execution_count": null,
   "metadata": {
    "colab": {
     "base_uri": "https://localhost:8080/"
    },
    "id": "NZI-x3if21jv",
    "outputId": "8d454adf-9f7f-461c-d4a0-8fe74c4b5305"
   },
   "outputs": [],
   "source": [
    "target_word = \"AL:\"\n",
    "value_al_od = find_offset_value(json_export, target_word, offset=1, eye=\"OD\")\n",
    "print(value_al_od)\n",
    "\n",
    "value_al_os = find_offset_value(json_export, target_word, offset=1, eye=\"OS\")\n",
    "print(value_al_os)"
   ]
  },
  {
   "cell_type": "markdown",
   "metadata": {
    "id": "aTrK1CnL3Gx4"
   },
   "source": [
    "R1 and R2"
   ]
  },
  {
   "cell_type": "code",
   "execution_count": null,
   "metadata": {
    "colab": {
     "base_uri": "https://localhost:8080/"
    },
    "id": "CmxHrHxH3GPg",
    "outputId": "099e9aea-a4b7-41c4-fad6-32e1dec5cf19"
   },
   "outputs": [],
   "source": [
    "target_word = \"R1:\"\n",
    "value_r1_od = find_offset_value(json_export, target_word, offset=1, eye=\"OD\")\n",
    "print(value_r1_od)\n",
    "\n",
    "value_r1_os = find_offset_value(json_export, target_word, offset=1, eye=\"OS\")\n",
    "print(value_r1_os)\n",
    "\n",
    "\n",
    "target_word = \"R2:\"\n",
    "value_r2_od = find_offset_value(json_export, target_word, offset=1, eye=\"OD\")\n",
    "print(value_r2_od)\n",
    "\n",
    "value_r2_os = find_offset_value(json_export, target_word, offset=1, eye=\"OS\")\n",
    "print(value_r2_os)"
   ]
  },
  {
   "cell_type": "markdown",
   "metadata": {
    "id": "-dwF99_G1N7f"
   },
   "source": [
    "For Cylinder value, -0.44 is captured correctly, but 54° is predicted as 540"
   ]
  },
  {
   "cell_type": "code",
   "execution_count": null,
   "metadata": {
    "colab": {
     "base_uri": "https://localhost:8080/"
    },
    "id": "OvouhSk1yECu",
    "outputId": "5f2cf52d-6456-4336-894d-fbe5efefc19d"
   },
   "outputs": [],
   "source": [
    "target_word = \"Cyl.:\"\n",
    "value_cyl_od = find_offset_value(json_export, target_word, offset=1, eye=\"OD\")\n",
    "print(value_cyl_od)\n",
    "\n",
    "value_ = find_offset_value(json_export, target_word, offset=4, eye=\"OD\")\n",
    "print(value_)"
   ]
  },
  {
   "cell_type": "code",
   "execution_count": null,
   "metadata": {
    "colab": {
     "base_uri": "https://localhost:8080/"
    },
    "id": "LHA6-kpl4_R9",
    "outputId": "5f8e967a-1adf-471c-c256-0cbd534d38b8"
   },
   "outputs": [],
   "source": [
    "target_word = \"R:\"\n",
    "value_r_od = find_offset_value(json_export, target_word, offset=1, eye=\"OD\")\n",
    "print(value_r_od)\n",
    "\n",
    "value_r_os = find_offset_value(json_export, target_word, offset=1, eye=\"OS\")\n",
    "print(value_r_os)"
   ]
  },
  {
   "cell_type": "code",
   "execution_count": null,
   "metadata": {
    "colab": {
     "base_uri": "https://localhost:8080/"
    },
    "id": "rbXnO_uW1ybu",
    "outputId": "ceb936d1-d8e3-4b14-909a-97c380faad89"
   },
   "outputs": [],
   "source": [
    "results_OD = {\n",
    "    \"AL\": value_al_od,\n",
    "    \"R1\": value_r1_od,\n",
    "    \"R2\": value_r2_od,\n",
    "    \"Cyl\": value_cyl_od,\n",
    "    \"R\": value_r_od,\n",
    "}\n",
    "\n",
    "results_OD"
   ]
  }
 ],
 "metadata": {
  "colab": {
   "provenance": []
  },
  "kernelspec": {
   "display_name": "Python 3",
   "name": "python3"
  },
  "language_info": {
   "name": "python"
  }
 },
 "nbformat": 4,
 "nbformat_minor": 0
}
